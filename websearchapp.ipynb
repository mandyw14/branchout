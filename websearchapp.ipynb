{
 "cells": [
  {
   "cell_type": "code",
   "execution_count": 1,
   "metadata": {},
   "outputs": [
    {
     "ename": "ModuleNotFoundError",
     "evalue": "No module named 'streamlit'",
     "output_type": "error",
     "traceback": [
      "\u001b[0;31m---------------------------------------------------------------------------\u001b[0m",
      "\u001b[0;31mModuleNotFoundError\u001b[0m                       Traceback (most recent call last)",
      "\u001b[0;32m<ipython-input-1-caf8cdfc6597>\u001b[0m in \u001b[0;36m<module>\u001b[0;34m\u001b[0m\n\u001b[1;32m      1\u001b[0m \u001b[0;31m# app.py\u001b[0m\u001b[0;34m\u001b[0m\u001b[0;34m\u001b[0m\u001b[0;34m\u001b[0m\u001b[0m\n\u001b[1;32m      2\u001b[0m \u001b[0;32mimport\u001b[0m \u001b[0mpandas\u001b[0m \u001b[0;32mas\u001b[0m \u001b[0mpd\u001b[0m\u001b[0;34m\u001b[0m\u001b[0;34m\u001b[0m\u001b[0m\n\u001b[0;32m----> 3\u001b[0;31m \u001b[0;32mimport\u001b[0m \u001b[0mstreamlit\u001b[0m \u001b[0;32mas\u001b[0m \u001b[0mst\u001b[0m\u001b[0;34m\u001b[0m\u001b[0;34m\u001b[0m\u001b[0m\n\u001b[0m\u001b[1;32m      4\u001b[0m \u001b[0;34m\u001b[0m\u001b[0m\n\u001b[1;32m      5\u001b[0m \u001b[0mst\u001b[0m\u001b[0;34m.\u001b[0m\u001b[0mset_page_config\u001b[0m\u001b[0;34m(\u001b[0m\u001b[0mpage_title\u001b[0m\u001b[0;34m=\u001b[0m\u001b[0;34m\"Quick Author Search\"\u001b[0m\u001b[0;34m,\u001b[0m \u001b[0mlayout\u001b[0m\u001b[0;34m=\u001b[0m\u001b[0;34m\"wide\"\u001b[0m\u001b[0;34m)\u001b[0m\u001b[0;34m\u001b[0m\u001b[0;34m\u001b[0m\u001b[0m\n",
      "\u001b[0;31mModuleNotFoundError\u001b[0m: No module named 'streamlit'"
     ]
    }
   ],
   "source": [
    "# app.py\n",
    "import pandas as pd\n",
    "import streamlit as st\n",
    "\n",
    "st.set_page_config(page_title=\"Quick Author Search\", layout=\"wide\")\n",
    "\n",
    "CSV_PATH = \"Dimensions-Publication-2025-10-14_15-57-25.csv\"\n",
    "AUTHOR_COL = \"Author\"   # exact column name expected in the CSV\n",
    "\n",
    "@st.cache_data(show_spinner=False)\n",
    "def load_data(path: str) -> pd.DataFrame:\n",
    "    try:\n",
    "        return pd.read_csv(path, encoding_errors=\"ignore\")\n",
    "    except FileNotFoundError:\n",
    "        st.error(f\"File not found: {path}\")\n",
    "        return pd.DataFrame()\n",
    "    except Exception as e:\n",
    "        st.error(f\"Could not read CSV: {e}\")\n",
    "        return pd.DataFrame()\n",
    "\n",
    "df = load_data(CSV_PATH)\n",
    "\n",
    "st.title(\"Dimensions: Simple Author Search\")\n",
    "\n",
    "if df.empty:\n",
    "    st.stop()\n",
    "\n",
    "# Basic column check\n",
    "if AUTHOR_COL not in df.columns:\n",
    "    st.error(\n",
    "        f\"Column '{AUTHOR_COL}' not found. \"\n",
    "        f\"Available columns include: {', '.join(df.columns[:20])}...\"\n",
    "    )\n",
    "    st.stop()\n",
    "\n",
    "# User input for substring search\n",
    "author_query = st.text_input(\n",
    "    \"Enter an author substring to search (e.g., 'Sohn')\",\n",
    "    value=\"\",\n",
    "    placeholder=\"Type a last name or fragment...\"\n",
    ")\n",
    "\n",
    "# Build mask (case-insensitive contains)\n",
    "if author_query.strip():\n",
    "    mask = df[AUTHOR_COL].astype(str).str.contains(author_query.strip(), case=False, na=False)\n",
    "    results = df[mask].copy()\n",
    "else:\n",
    "    results = df.copy()\n",
    "\n",
    "# KPIs\n",
    "c1, c2 = st.columns(2)\n",
    "c1.metric(\"Total rows\", f\"{len(df):,}\")\n",
    "c2.metric(\"Matches\", f\"{len(results):,}\")\n",
    "\n",
    "# Show table\n",
    "st.subheader(\"Results\")\n",
    "st.dataframe(results, use_container_width=True)\n",
    "\n",
    "# Download filtered results\n",
    "st.download_button(\n",
    "    \"Download matches as CSV\",\n",
    "    data=results.to_csv(index=False).encode(\"utf-8-sig\"),\n",
    "    file_name=\"author_search_results.csv\",\n",
    "    mime=\"text/csv\",\n",
    ")\n"
   ]
  },
  {
   "cell_type": "code",
   "execution_count": null,
   "metadata": {},
   "outputs": [],
   "source": []
  }
 ],
 "metadata": {
  "kernelspec": {
   "display_name": "Python 3",
   "language": "python",
   "name": "python3"
  },
  "language_info": {
   "codemirror_mode": {
    "name": "ipython",
    "version": 3
   },
   "file_extension": ".py",
   "mimetype": "text/x-python",
   "name": "python",
   "nbconvert_exporter": "python",
   "pygments_lexer": "ipython3",
   "version": "3.8.5"
  }
 },
 "nbformat": 4,
 "nbformat_minor": 4
}
